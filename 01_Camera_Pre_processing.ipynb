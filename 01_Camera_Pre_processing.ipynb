{
  "cells": [
    {
      "cell_type": "markdown",
      "metadata": {
        "id": "view-in-github",
        "colab_type": "text"
      },
      "source": [
        "<a href=\"https://colab.research.google.com/github/A00785001/TC5035/blob/main/01_Camera_Pre_processing.ipynb\" target=\"_parent\"><img src=\"https://colab.research.google.com/assets/colab-badge.svg\" alt=\"Open In Colab\"/></a>"
      ]
    },
    {
      "cell_type": "markdown",
      "metadata": {
        "id": "xDBg0tOVO225"
      },
      "source": [
        "# ROS Bag Camera Data Reader\n",
        "This notebook reads and displays camera data from ROS bag files"
      ]
    },
    {
      "cell_type": "code",
      "execution_count": null,
      "metadata": {
        "id": "U071-AU4O227"
      },
      "outputs": [],
      "source": [
        "# Import libraries\n",
        "import rosbag\n",
        "from cv_bridge import CvBridge\n",
        "import cv2\n",
        "import numpy as np\n",
        "from PIL import Image\n",
        "import matplotlib.pyplot as plt"
      ]
    },
    {
      "cell_type": "code",
      "source": [
        "# Initialize CV Bridge\n",
        "bridge = CvBridge()\n",
        "print(\"Libraries loaded successfully!\")"
      ],
      "metadata": {
        "id": "bs4o7-QjPYjr"
      },
      "execution_count": null,
      "outputs": []
    },
    {
      "cell_type": "code",
      "source": [
        "# Path to your ROS bag file\n",
        "bag_file = \"your_bag_file.bag\""
      ],
      "metadata": {
        "id": "RH3i3aZlPbjF"
      },
      "execution_count": null,
      "outputs": []
    },
    {
      "cell_type": "code",
      "execution_count": null,
      "metadata": {
        "id": "47s5WQpyO227"
      },
      "outputs": [],
      "source": [
        "# Open the bag\n",
        "bag = rosbag.Bag(bag_file)\n",
        "print(f\"Opened bag file: {bag_file}\")"
      ]
    },
    {
      "cell_type": "code",
      "execution_count": null,
      "metadata": {
        "id": "8uM8SC__O227"
      },
      "outputs": [],
      "source": [
        "# List all topics in the bag\n",
        "print(\"Topics in bag:\")\n",
        "for topic, msg_type, _ in bag.get_type_and_topic_info().topics.items():\n",
        "    print(f\"  {topic}: {msg_type}\")"
      ]
    },
    {
      "cell_type": "code",
      "execution_count": null,
      "metadata": {
        "id": "BsvI7bBYO227"
      },
      "outputs": [],
      "source": [
        "# Specify your camera topic\n",
        "camera_topic = \"/camera/image_raw\"\n",
        "print(f\"Using camera topic: {camera_topic}\")"
      ]
    },
    {
      "cell_type": "code",
      "execution_count": null,
      "metadata": {
        "id": "viajN8XUO227"
      },
      "outputs": [],
      "source": [
        "# Read images from the bag\n",
        "images = []\n",
        "timestamps = []\n",
        "\n",
        "print(f\"Reading images from topic: {camera_topic}\")\n",
        "for topic, msg, t in bag.read_messages(topics=[camera_topic]):\n",
        "    # Convert ROS Image message to OpenCV image\n",
        "    cv_image = bridge.imgmsg_to_cv2(msg, desired_encoding='bgr8')\n",
        "\n",
        "    # Convert BGR to RGB for matplotlib\n",
        "    rgb_image = cv2.cvtColor(cv_image, cv2.COLOR_BGR2RGB)\n",
        "\n",
        "    images.append(rgb_image)\n",
        "    timestamps.append(t.to_sec())\n",
        "\n",
        "    # Limit to first 10 images for quick preview\n",
        "    if len(images) >= 10:\n",
        "        break\n",
        "\n",
        "print(f\"Total images read: {len(images)}\")\n",
        "if images:\n",
        "    print(f\"Image shape: {images[0].shape}\")\n",
        "    print(f\"Time range: {timestamps[0]:.3f} to {timestamps[-1]:.3f} seconds\")"
      ]
    },
    {
      "cell_type": "code",
      "execution_count": null,
      "metadata": {
        "id": "ENUrRgSyO227"
      },
      "outputs": [],
      "source": [
        "# Display first image\n",
        "if images:\n",
        "    plt.figure(figsize=(10, 8))\n",
        "    plt.imshow(images[0])\n",
        "    plt.title(f\"First Image - Timestamp: {timestamps[0]}\")\n",
        "    plt.axis('off')\n",
        "    plt.show()"
      ]
    },
    {
      "cell_type": "code",
      "execution_count": null,
      "metadata": {
        "id": "UZuZE8i5O228"
      },
      "outputs": [],
      "source": [
        "# Display multiple images in a grid\n",
        "if len(images) > 1:\n",
        "    fig, axes = plt.subplots(2, 5, figsize=(15, 6))\n",
        "    axes = axes.flatten()\n",
        "\n",
        "    for i, (img, ts) in enumerate(zip(images[:10], timestamps[:10])):\n",
        "        axes[i].imshow(img)\n",
        "        axes[i].set_title(f\"t={ts:.2f}s\", fontsize=8)\n",
        "        axes[i].axis('off')\n",
        "\n",
        "    plt.tight_layout()\n",
        "    plt.show()"
      ]
    },
    {
      "cell_type": "code",
      "execution_count": null,
      "metadata": {
        "id": "_3jHRZ3WO228"
      },
      "outputs": [],
      "source": [
        "# Save an image to file\n",
        "if images:\n",
        "    cv2.imwrite('extracted_frame.jpg', cv2.cvtColor(images[0], cv2.COLOR_RGB2BGR))\n",
        "    print(\"Saved first frame as 'extracted_frame.jpg'\")"
      ]
    },
    {
      "cell_type": "code",
      "execution_count": null,
      "metadata": {
        "id": "YH1e4wiUO228"
      },
      "outputs": [],
      "source": [
        "# Close the bag\n",
        "bag.close()\n",
        "print(\"Bag file closed\")"
      ]
    }
  ],
  "metadata": {
    "kernelspec": {
      "display_name": "Python 3",
      "language": "python",
      "name": "python3"
    },
    "language_info": {
      "codemirror_mode": {
        "name": "ipython",
        "version": 3
      },
      "file_extension": ".py",
      "mimetype": "text/x-python",
      "name": "python",
      "nbconvert_exporter": "python",
      "pygments_lexer": "ipython3",
      "version": "3.8.0"
    },
    "colab": {
      "provenance": [],
      "include_colab_link": true
    }
  },
  "nbformat": 4,
  "nbformat_minor": 0
}