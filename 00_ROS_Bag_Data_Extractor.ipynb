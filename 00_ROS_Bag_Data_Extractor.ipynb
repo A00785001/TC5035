{
  "cells": [
    {
      "cell_type": "markdown",
      "metadata": {
        "id": "view-in-github",
        "colab_type": "text"
      },
      "source": [
        "<a href=\"https://colab.research.google.com/github/A00785001/TC5035/blob/main/00_ROS_Bag_Data_Extractor.ipynb\" target=\"_parent\"><img src=\"https://colab.research.google.com/assets/colab-badge.svg\" alt=\"Open In Colab\"/></a>"
      ]
    },
    {
      "cell_type": "markdown",
      "metadata": {
        "id": "zgIYXrjmumyz"
      },
      "source": [
        "# ROS Bag Data Extractor\n",
        "Extract data from ROS bags"
      ]
    },
    {
      "cell_type": "markdown",
      "metadata": {
        "id": "T6gSC5qdumy0"
      },
      "source": [
        "## Extract Images from ROS Bag\n"
      ]
    },
    {
      "cell_type": "code",
      "execution_count": 1,
      "metadata": {
        "id": "xBQiCupLumy0",
        "colab": {
          "base_uri": "https://localhost:8080/"
        },
        "outputId": "919855ac-8668-43fd-abfe-3de2e5b68dff"
      },
      "outputs": [
        {
          "output_type": "stream",
          "name": "stdout",
          "text": [
            "\u001b[?25l   \u001b[90m━━━━━━━━━━━━━━━━━━━━━━━━━━━━━━━━━━━━━━━━\u001b[0m \u001b[32m0.0/137.9 kB\u001b[0m \u001b[31m?\u001b[0m eta \u001b[36m-:--:--\u001b[0m\r\u001b[2K   \u001b[90m━━━━━━━━━━━━━━━━━━━━━━━━━━━━━━━━━━━━━━━━\u001b[0m \u001b[32m137.9/137.9 kB\u001b[0m \u001b[31m5.1 MB/s\u001b[0m eta \u001b[36m0:00:00\u001b[0m\n",
            "\u001b[?25h\u001b[?25l   \u001b[90m━━━━━━━━━━━━━━━━━━━━━━━━━━━━━━━━━━━━━━━━\u001b[0m \u001b[32m0.0/1.3 MB\u001b[0m \u001b[31m?\u001b[0m eta \u001b[36m-:--:--\u001b[0m\r\u001b[2K   \u001b[91m━━━━━━━━━━━━━━━━━━━━━━━━━━━━━━━━━━━━━━━\u001b[0m\u001b[91m╸\u001b[0m \u001b[32m1.3/1.3 MB\u001b[0m \u001b[31m58.9 MB/s\u001b[0m eta \u001b[36m0:00:01\u001b[0m\r\u001b[2K   \u001b[90m━━━━━━━━━━━━━━━━━━━━━━━━━━━━━━━━━━━━━━━━\u001b[0m \u001b[32m1.3/1.3 MB\u001b[0m \u001b[31m22.7 MB/s\u001b[0m eta \u001b[36m0:00:00\u001b[0m\n",
            "\u001b[2K   \u001b[90m━━━━━━━━━━━━━━━━━━━━━━━━━━━━━━━━━━━━━━━━\u001b[0m \u001b[32m119.9/119.9 kB\u001b[0m \u001b[31m4.2 MB/s\u001b[0m eta \u001b[36m0:00:00\u001b[0m\n",
            "\u001b[2K   \u001b[90m━━━━━━━━━━━━━━━━━━━━━━━━━━━━━━━━━━━━━━━━\u001b[0m \u001b[32m753.1/753.1 kB\u001b[0m \u001b[31m22.3 MB/s\u001b[0m eta \u001b[36m0:00:00\u001b[0m\n",
            "\u001b[?25h"
          ]
        }
      ],
      "source": [
        "# Install required packages\n",
        "!pip install --quiet rosbags opencv-python pillow numpy matplotlib tqdm seaborn pandas\n"
      ]
    },
    {
      "cell_type": "code",
      "execution_count": 4,
      "metadata": {
        "id": "ahHvN_bEumy1",
        "colab": {
          "base_uri": "https://localhost:8080/"
        },
        "outputId": "033961e8-ed87-47f8-80ef-1b5583c110af"
      },
      "outputs": [
        {
          "output_type": "stream",
          "name": "stdout",
          "text": [
            "Libraries loaded successfully!\n"
          ]
        }
      ],
      "source": [
        "# Import libraries\n",
        "\n",
        "import cv2\n",
        "import numpy as np\n",
        "from PIL import Image\n",
        "import matplotlib.pyplot as plt\n",
        "import seaborn as sns\n",
        "import pandas as pd\n",
        "import json\n",
        "import csv\n",
        "from datetime import datetime\n",
        "from tqdm import tqdm\n",
        "from collections import defaultdict\n",
        "\n",
        "print(\"Libraries loaded successfully!\")\n"
      ]
    },
    {
      "cell_type": "code",
      "source": [
        "from rosbags.rosbag1 import Reader\n",
        "from rosbags.typesys import Stores, get_typestore\n",
        "import os\n",
        "from pathlib import Path\n",
        "print(\"Libraries loaded successfully!\")"
      ],
      "metadata": {
        "colab": {
          "base_uri": "https://localhost:8080/"
        },
        "id": "mrvgY5gk-xnC",
        "outputId": "60ba8097-0f83-439d-edf6-123d3dc16617"
      },
      "execution_count": 3,
      "outputs": [
        {
          "output_type": "stream",
          "name": "stdout",
          "text": [
            "Libraries loaded successfully!\n"
          ]
        }
      ]
    },
    {
      "cell_type": "code",
      "metadata": {
        "id": "_x4Qx0Oeumy2",
        "colab": {
          "base_uri": "https://localhost:8080/"
        },
        "outputId": "eb2e9d51-3aad-44a1-d325-b6ed00995cdf"
      },
      "execution_count": 5,
      "outputs": [
        {
          "output_type": "stream",
          "name": "stdout",
          "text": [
            "Typestore initialized for ROS1\n"
          ]
        }
      ],
      "source": [
        "# Initialize typestore for ROS1 message deserialization\n",
        "typestore = get_typestore(Stores.ROS1_NOETIC)\n",
        "print(\"Typestore initialized for ROS1\")\n"
      ]
    },
    {
      "cell_type": "code",
      "metadata": {
        "id": "r4A4E6Bwumy3",
        "colab": {
          "base_uri": "https://localhost:8080/"
        },
        "outputId": "2573598f-ae0b-42c8-c0cf-e28e0458befb"
      },
      "execution_count": 6,
      "outputs": [
        {
          "output_type": "stream",
          "name": "stdout",
          "text": [
            "Mounted at /content/drive\n"
          ]
        }
      ],
      "source": [
        "# Mount Google Drive\n",
        "from google.colab import drive\n",
        "drive.mount('/content/drive')\n"
      ]
    },
    {
      "cell_type": "code",
      "source": [
        "# Specify the path to the sessions folder\n",
        "data_path = \"/content/drive/MyDrive/DATA/Artificial_Intelligence/MNA-V/Subjects/TC5035-Proyecto_Integrador/TC5035.data/jetbot/\""
      ],
      "metadata": {
        "id": "ym09k1qwvnNB"
      },
      "execution_count": 7,
      "outputs": []
    },
    {
      "cell_type": "code",
      "source": [
        "# Specify the session\n",
        "session = '20251016_133216'\n",
        "print(f\"Using session: {session}\")"
      ],
      "metadata": {
        "id": "ZDG2Pve9vx_k",
        "colab": {
          "base_uri": "https://localhost:8080/"
        },
        "outputId": "f050a26d-c8ab-45c6-b3a9-f8e7f2fc0b81"
      },
      "execution_count": 10,
      "outputs": [
        {
          "output_type": "stream",
          "name": "stdout",
          "text": [
            "Using session: 20251016_133216\n"
          ]
        }
      ]
    },
    {
      "cell_type": "code",
      "metadata": {
        "id": "mV8nBLXqumy4",
        "colab": {
          "base_uri": "https://localhost:8080/"
        },
        "outputId": "c4699e21-9340-4bab-b82d-5afa1b5801ec"
      },
      "execution_count": 11,
      "outputs": [
        {
          "output_type": "stream",
          "name": "stdout",
          "text": [
            "Changed directory to: /content/drive/MyDrive/DATA/Artificial_Intelligence/MNA-V/Subjects/TC5035-Proyecto_Integrador/TC5035.data/jetbot/session_20251016_133216\n"
          ]
        }
      ],
      "source": [
        "\n",
        "working_folder = data_path + 'session_' + session\n",
        "bag_name = 'session_data.bag'\n",
        "\n",
        "# Change to the specified subfolder\n",
        "os.chdir(working_folder)\n",
        "print(f\"Changed directory to: {os.getcwd()}\")\n"
      ]
    },
    {
      "cell_type": "code",
      "source": [
        "bag_file = working_folder + '/' + bag_name\n",
        "print(f\"Bag file name: {bag_name}\")\n",
        "\n",
        "# Set bag_path for the rest of the notebook\n",
        "bag_path = bag_file"
      ],
      "metadata": {
        "colab": {
          "base_uri": "https://localhost:8080/"
        },
        "id": "Ao2LOd4v_hu8",
        "outputId": "ce835a01-11d4-4f0b-863e-b437b4ef327a"
      },
      "execution_count": 12,
      "outputs": [
        {
          "output_type": "stream",
          "name": "stdout",
          "text": [
            "Bag file name: session_data.bag\n"
          ]
        }
      ]
    },
    {
      "cell_type": "code",
      "execution_count": 13,
      "metadata": {
        "id": "jlkfB_Zoumy4",
        "colab": {
          "base_uri": "https://localhost:8080/"
        },
        "outputId": "63a84316-eb44-4724-a146-5f20fc26df5f"
      },
      "outputs": [
        {
          "output_type": "stream",
          "name": "stdout",
          "text": [
            "Opening bag file: /content/drive/MyDrive/DATA/Artificial_Intelligence/MNA-V/Subjects/TC5035-Proyecto_Integrador/TC5035.data/jetbot/session_20251016_133216/session_data.bag\n",
            "\n",
            "Bag duration: 463.17 seconds\n",
            "Start time: 1760649872.66\n",
            "Message count: 98205\n",
            "\n",
            "Topics in bag:\n",
            "  /csi_cam_0/camera_info (sensor_msgs/msg/CameraInfo)\n",
            "  /constraint_list (visualization_msgs/msg/MarkerArray)\n",
            "  /csi_cam_0/image_raw/compressed (sensor_msgs/msg/CompressedImage)\n",
            "  /imu (sensor_msgs/msg/Imu)\n",
            "  /odom (nav_msgs/msg/Odometry)\n",
            "  /scan (sensor_msgs/msg/LaserScan)\n",
            "  /tf (tf2_msgs/msg/TFMessage)\n",
            "  /tf (tf2_msgs/msg/TFMessage)\n",
            "  /tf (tf2_msgs/msg/TFMessage)\n",
            "  /tf (tf2_msgs/msg/TFMessage)\n",
            "  /submap_list (cartographer_ros_msgs/msg/SubmapList)\n",
            "  /trajectory_node_list (visualization_msgs/msg/MarkerArray)\n",
            "  /cmd_vel (geometry_msgs/msg/Twist)\n",
            "\n",
            "✓ Bag file opened successfully\n"
          ]
        }
      ],
      "source": [
        "# Read the bag file and list topics\n",
        "print(f\"Opening bag file: {bag_file}\")\n",
        "bag_path = Path(bag_file)\n",
        "\n",
        "with Reader(bag_path) as reader:\n",
        "    # Get bag info\n",
        "    print(f\"\\nBag duration: {reader.duration / 1e9:.2f} seconds\")\n",
        "    print(f\"Start time: {reader.start_time / 1e9:.2f}\")\n",
        "    print(f\"Message count: {reader.message_count}\")\n",
        "\n",
        "    # List all topics\n",
        "    print(f\"\\nTopics in bag:\")\n",
        "    for connection in reader.connections:\n",
        "        print(f\"  {connection.topic} ({connection.msgtype})\")\n",
        "\n",
        "print(f\"\\n✓ Bag file opened successfully\")"
      ]
    },
    {
      "cell_type": "markdown",
      "metadata": {
        "id": "WFLCUsKi93l_"
      },
      "source": [
        "### 1. Bag Metadata & General Information"
      ]
    },
    {
      "cell_type": "code",
      "execution_count": 14,
      "metadata": {
        "colab": {
          "base_uri": "https://localhost:8080/"
        },
        "id": "QF55AP8o93l_",
        "outputId": "1435afdf-9d66-4ccd-b679-97732d828bee"
      },
      "outputs": [
        {
          "output_type": "stream",
          "name": "stdout",
          "text": [
            "============================================================\n",
            "ROS BAG METADATA\n",
            "============================================================\n",
            "\n",
            "📁 File Information:\n",
            "   File path: /content/drive/MyDrive/DATA/Artificial_Intelligence/MNA-V/Subjects/TC5035-Proyecto_Integrador/TC5035.data/jetbot/session_20251016_133216/session_data.bag\n",
            "   File size: 34.35 MB\n",
            "\n",
            "⏱️  Temporal Information:\n",
            "   Duration: 463.17 seconds (7.72 minutes)\n",
            "   Start time: 2025-10-16 21:24:32.661\n",
            "   End time: 2025-10-16 21:32:15.826\n",
            "   Start timestamp: 1760649872.66\n",
            "   End timestamp: 1760650335.83\n",
            "\n",
            "📊 Message Statistics:\n",
            "   Total messages: 98,205\n",
            "   Average message rate: 212.03 msg/sec\n",
            "   Average data rate: 4.45 MB/min\n",
            "   Unique topics: 10\n",
            "   Connections: 13\n"
          ]
        }
      ],
      "source": [
        "# Collect comprehensive bag metadata\n",
        "print(\"=\" * 60)\n",
        "print(\"ROS BAG METADATA\")\n",
        "print(\"=\" * 60)\n",
        "\n",
        "with Reader(bag_path) as reader:\n",
        "    # File information\n",
        "    file_size_mb = os.path.getsize(bag_path) / (1024 * 1024)\n",
        "    print(f\"\\n📁 File Information:\")\n",
        "    print(f\"   File path: {bag_path}\")\n",
        "    print(f\"   File size: {file_size_mb:.2f} MB\")\n",
        "\n",
        "    # Temporal information\n",
        "    duration_sec = reader.duration / 1e9\n",
        "    start_time = reader.start_time / 1e9\n",
        "    end_time = reader.end_time / 1e9\n",
        "    start_dt = datetime.fromtimestamp(start_time)\n",
        "    end_dt = datetime.fromtimestamp(end_time)\n",
        "\n",
        "    print(f\"\\n⏱️  Temporal Information:\")\n",
        "    print(f\"   Duration: {duration_sec:.2f} seconds ({duration_sec/60:.2f} minutes)\")\n",
        "    print(f\"   Start time: {start_dt.strftime('%Y-%m-%d %H:%M:%S.%f')[:-3]}\")\n",
        "    print(f\"   End time: {end_dt.strftime('%Y-%m-%d %H:%M:%S.%f')[:-3]}\")\n",
        "    print(f\"   Start timestamp: {start_time:.2f}\")\n",
        "    print(f\"   End timestamp: {end_time:.2f}\")\n",
        "\n",
        "    # Message statistics\n",
        "    total_messages = reader.message_count\n",
        "    avg_message_rate = total_messages / duration_sec if duration_sec > 0 else 0\n",
        "\n",
        "    print(f\"\\n📊 Message Statistics:\")\n",
        "    print(f\"   Total messages: {total_messages:,}\")\n",
        "    print(f\"   Average message rate: {avg_message_rate:.2f} msg/sec\")\n",
        "    print(f\"   Average data rate: {file_size_mb / (duration_sec/60):.2f} MB/min\")\n",
        "\n",
        "    # Topic count\n",
        "    unique_topics = set(conn.topic for conn in reader.connections)\n",
        "    print(f\"   Unique topics: {len(unique_topics)}\")\n",
        "    print(f\"   Connections: {len(list(reader.connections))}\")"
      ]
    },
    {
      "cell_type": "markdown",
      "metadata": {
        "id": "HdYzo53393mA"
      },
      "source": [
        "### 2. Topic Analysis with Message Counts & Frequencies"
      ]
    },
    {
      "cell_type": "code",
      "execution_count": 15,
      "metadata": {
        "colab": {
          "base_uri": "https://localhost:8080/"
        },
        "id": "w9FqbxIa93mA",
        "outputId": "f6704135-fee8-49ba-bfd9-82bd01bcc5d8"
      },
      "outputs": [
        {
          "output_type": "stream",
          "name": "stdout",
          "text": [
            "============================================================\n",
            "TOPIC ANALYSIS\n",
            "============================================================\n",
            "\n",
            "Counting messages per topic...\n"
          ]
        },
        {
          "output_type": "stream",
          "name": "stderr",
          "text": [
            "100%|██████████| 98205/98205 [00:01<00:00, 64781.96it/s]\n"
          ]
        },
        {
          "output_type": "stream",
          "name": "stdout",
          "text": [
            "\n",
            "📋 Topic Summary:\n",
            "                          Topic                         Message Type  Count  Frequency (Hz)  Percentage (%)  Duration (s)\n",
            "                            /tf               tf2_msgs/msg/TFMessage  63295      136.694223       64.451912    463.040784\n",
            "                       /cmd_vel              geometry_msgs/msg/Twist  11418       27.370702       11.626699    417.161394\n",
            "                           /imu                  sensor_msgs/msg/Imu   9553       21.299759        9.727611    448.502734\n",
            "         /csi_cam_0/camera_info           sensor_msgs/msg/CameraInfo   7785       16.808253        7.927295    463.165330\n",
            "                          /odom                nav_msgs/msg/Odometry   4013        8.947509        4.086350    448.504693\n",
            "                   /submap_list cartographer_ros_msgs/msg/SubmapList   1207        2.693680        1.229062    448.085825\n",
            "          /trajectory_node_list   visualization_msgs/msg/MarkerArray    410        0.923788        0.417494    443.825011\n",
            "                          /scan            sensor_msgs/msg/LaserScan    315        0.702572        0.320758    448.352723\n",
            "               /constraint_list   visualization_msgs/msg/MarkerArray    109        0.364776        0.110992    298.813270\n",
            "/csi_cam_0/image_raw/compressed      sensor_msgs/msg/CompressedImage    100        0.225449        0.101828    443.559513\n"
          ]
        }
      ],
      "source": [
        "# Analyze topics with detailed statistics\n",
        "print(\"=\" * 60)\n",
        "print(\"TOPIC ANALYSIS\")\n",
        "print(\"=\" * 60)\n",
        "\n",
        "with Reader(bag_path) as reader:\n",
        "    duration_sec = reader.duration / 1e9\n",
        "\n",
        "    # Collect topic information\n",
        "    topic_stats = defaultdict(lambda: {'count': 0, 'type': '', 'first_ts': None, 'last_ts': None})\n",
        "\n",
        "    print(\"\\nCounting messages per topic...\")\n",
        "    for connection, timestamp, rawdata in tqdm(reader.messages(), total=reader.message_count):\n",
        "        topic = connection.topic\n",
        "        topic_stats[topic]['count'] += 1\n",
        "        topic_stats[topic]['type'] = connection.msgtype\n",
        "\n",
        "        if topic_stats[topic]['first_ts'] is None:\n",
        "            topic_stats[topic]['first_ts'] = timestamp\n",
        "        topic_stats[topic]['last_ts'] = timestamp\n",
        "\n",
        "    # Create DataFrame for better visualization\n",
        "    topic_data = []\n",
        "    for topic, stats in topic_stats.items():\n",
        "        topic_duration = (stats['last_ts'] - stats['first_ts']) / 1e9\n",
        "        frequency = stats['count'] / topic_duration if topic_duration > 0 else 0\n",
        "        percentage = (stats['count'] / reader.message_count) * 100\n",
        "\n",
        "        topic_data.append({\n",
        "            'Topic': topic,\n",
        "            'Message Type': stats['type'],\n",
        "            'Count': stats['count'],\n",
        "            'Frequency (Hz)': frequency,\n",
        "            'Percentage (%)': percentage,\n",
        "            'Duration (s)': topic_duration\n",
        "        })\n",
        "\n",
        "    df_topics = pd.DataFrame(topic_data)\n",
        "    df_topics = df_topics.sort_values('Count', ascending=False)\n",
        "\n",
        "    print(\"\\n📋 Topic Summary:\")\n",
        "    print(df_topics.to_string(index=False))\n",
        "\n",
        "    # Save to CSV for later use\n",
        "    df_topics.to_csv('topic_statistics.csv', index=False)\n"
      ]
    }
  ],
  "metadata": {
    "kernelspec": {
      "display_name": "Python 3",
      "language": "python",
      "name": "python3"
    },
    "language_info": {
      "codemirror_mode": {
        "name": "ipython",
        "version": 3
      },
      "file_extension": ".py",
      "mimetype": "text/x-python",
      "name": "python",
      "nbconvert_exporter": "python",
      "pygments_lexer": "ipython3",
      "version": "3.8.0"
    },
    "colab": {
      "provenance": [],
      "include_colab_link": true
    }
  },
  "nbformat": 4,
  "nbformat_minor": 0
}