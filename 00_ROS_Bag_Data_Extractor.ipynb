{
  "cells": [
    {
      "cell_type": "markdown",
      "metadata": {
        "id": "view-in-github",
        "colab_type": "text"
      },
      "source": [
        "<a href=\"https://colab.research.google.com/github/A00785001/TC5035/blob/main/00_ROS_Bag_Data_Extractor.ipynb\" target=\"_parent\"><img src=\"https://colab.research.google.com/assets/colab-badge.svg\" alt=\"Open In Colab\"/></a>"
      ]
    },
    {
      "cell_type": "markdown",
      "metadata": {
        "id": "zgIYXrjmumyz"
      },
      "source": [
        "# ROS Bag Data Extractor\n",
        "Extract data from ROS bags"
      ]
    },
    {
      "cell_type": "markdown",
      "metadata": {
        "id": "ekLKqf9WUAFO"
      },
      "source": [
        "## <font color='#2E86AB'>▼ Initialization and Setup</font>"
      ]
    },
    {
      "cell_type": "code",
      "execution_count": 1,
      "metadata": {
        "id": "xBQiCupLumy0",
        "colab": {
          "base_uri": "https://localhost:8080/"
        },
        "outputId": "406af023-93b2-4ced-c029-28e25ff43ff3"
      },
      "outputs": [
        {
          "output_type": "stream",
          "name": "stdout",
          "text": [
            "\u001b[?25l   \u001b[90m━━━━━━━━━━━━━━━━━━━━━━━━━━━━━━━━━━━━━━━━\u001b[0m \u001b[32m0.0/137.9 kB\u001b[0m \u001b[31m?\u001b[0m eta \u001b[36m-:--:--\u001b[0m\r\u001b[2K   \u001b[90m━━━━━━━━━━━━━━━━━━━━━━━━━━━━━━━━━━━━━━━━\u001b[0m \u001b[32m137.9/137.9 kB\u001b[0m \u001b[31m4.0 MB/s\u001b[0m eta \u001b[36m0:00:00\u001b[0m\n",
            "\u001b[?25h\u001b[?25l   \u001b[90m━━━━━━━━━━━━━━━━━━━━━━━━━━━━━━━━━━━━━━━━\u001b[0m \u001b[32m0.0/1.3 MB\u001b[0m \u001b[31m?\u001b[0m eta \u001b[36m-:--:--\u001b[0m\r\u001b[2K   \u001b[91m━━━━━━━━━━━━━━━━━━━━━━━━━━━━━━━━━━━━━━━\u001b[0m\u001b[91m╸\u001b[0m \u001b[32m1.3/1.3 MB\u001b[0m \u001b[31m51.2 MB/s\u001b[0m eta \u001b[36m0:00:01\u001b[0m\r\u001b[2K   \u001b[90m━━━━━━━━━━━━━━━━━━━━━━━━━━━━━━━━━━━━━━━━\u001b[0m \u001b[32m1.3/1.3 MB\u001b[0m \u001b[31m23.4 MB/s\u001b[0m eta \u001b[36m0:00:00\u001b[0m\n",
            "\u001b[2K   \u001b[90m━━━━━━━━━━━━━━━━━━━━━━━━━━━━━━━━━━━━━━━━\u001b[0m \u001b[32m119.9/119.9 kB\u001b[0m \u001b[31m6.1 MB/s\u001b[0m eta \u001b[36m0:00:00\u001b[0m\n",
            "\u001b[2K   \u001b[90m━━━━━━━━━━━━━━━━━━━━━━━━━━━━━━━━━━━━━━━━\u001b[0m \u001b[32m753.1/753.1 kB\u001b[0m \u001b[31m29.7 MB/s\u001b[0m eta \u001b[36m0:00:00\u001b[0m\n",
            "\u001b[?25h"
          ]
        }
      ],
      "source": [
        "# Install required packages\n",
        "!pip install --quiet rosbags pandas tqdm"
      ]
    },
    {
      "cell_type": "code",
      "execution_count": 2,
      "metadata": {
        "id": "ahHvN_bEumy1",
        "colab": {
          "base_uri": "https://localhost:8080/"
        },
        "outputId": "b319d167-e2d5-49f3-dbdc-efb959a309c4"
      },
      "outputs": [
        {
          "output_type": "stream",
          "name": "stdout",
          "text": [
            "Libraries loaded successfully!\n"
          ]
        }
      ],
      "source": [
        "# Import libraries\n",
        "import numpy as np\n",
        "import pandas as pd\n",
        "from tqdm import tqdm\n",
        "from collections import defaultdict\n",
        "\n",
        "print(\"Libraries loaded successfully!\")"
      ]
    },
    {
      "cell_type": "code",
      "execution_count": 3,
      "metadata": {
        "id": "mrvgY5gk-xnC",
        "colab": {
          "base_uri": "https://localhost:8080/"
        },
        "outputId": "8344f93d-3f95-4418-be06-80677e7637dd"
      },
      "outputs": [
        {
          "output_type": "stream",
          "name": "stdout",
          "text": [
            "Libraries loaded successfully!\n"
          ]
        }
      ],
      "source": [
        "from rosbags.rosbag1 import Reader\n",
        "from rosbags.typesys import Stores, get_typestore\n",
        "import os\n",
        "\n",
        "print(\"Libraries loaded successfully!\")"
      ]
    },
    {
      "cell_type": "code",
      "execution_count": 4,
      "metadata": {
        "id": "_x4Qx0Oeumy2",
        "colab": {
          "base_uri": "https://localhost:8080/"
        },
        "outputId": "b8a0ae89-17e7-459e-d577-ff89b28dcc0d"
      },
      "outputs": [
        {
          "output_type": "stream",
          "name": "stdout",
          "text": [
            "Typestore initialized for ROS1\n"
          ]
        }
      ],
      "source": [
        "# Initialize typestore for ROS1 message deserialization\n",
        "typestore = get_typestore(Stores.ROS1_NOETIC)\n",
        "print(\"Typestore initialized for ROS1\")"
      ]
    },
    {
      "cell_type": "markdown",
      "metadata": {
        "id": "P2xO7cWyUAFQ"
      },
      "source": [
        "## <font color='#2E86AB'>▼ Storage Mounting</font>"
      ]
    },
    {
      "cell_type": "code",
      "execution_count": 5,
      "metadata": {
        "id": "r4A4E6Bwumy3",
        "colab": {
          "base_uri": "https://localhost:8080/"
        },
        "outputId": "b888cf65-af66-4df7-8933-fec62462afcd"
      },
      "outputs": [
        {
          "output_type": "stream",
          "name": "stdout",
          "text": [
            "Mounted at /content/drive\n"
          ]
        }
      ],
      "source": [
        "# Mount Google Drive\n",
        "from google.colab import drive\n",
        "drive.mount('/content/drive')"
      ]
    },
    {
      "cell_type": "markdown",
      "metadata": {
        "id": "nR7O-Sj3UAFR"
      },
      "source": [
        "## <font color='#2E86AB'>▼ ROS Bag Load</font>"
      ]
    },
    {
      "cell_type": "code",
      "execution_count": 6,
      "metadata": {
        "id": "ym09k1qwvnNB"
      },
      "outputs": [],
      "source": [
        "# Specify the path to the sessions folder\n",
        "data_path = \"/content/drive/MyDrive/DATA/Artificial_Intelligence/MNA-V/Subjects/TC5035-Proyecto_Integrador/TC5035.data/jetbot/\""
      ]
    },
    {
      "cell_type": "code",
      "execution_count": 7,
      "metadata": {
        "id": "ZDG2Pve9vx_k",
        "colab": {
          "base_uri": "https://localhost:8080/"
        },
        "outputId": "81289980-ef90-4602-b471-7b114c9ff59a"
      },
      "outputs": [
        {
          "output_type": "stream",
          "name": "stdout",
          "text": [
            "Using session: 20251016_133216\n"
          ]
        }
      ],
      "source": [
        "# Specify the session\n",
        "session = '20251016_133216'\n",
        "print(f\"Using session: {session}\")"
      ]
    },
    {
      "cell_type": "code",
      "execution_count": 8,
      "metadata": {
        "id": "mV8nBLXqumy4",
        "colab": {
          "base_uri": "https://localhost:8080/"
        },
        "outputId": "fa9e6838-89b3-4427-a33b-3a99c58679b1"
      },
      "outputs": [
        {
          "output_type": "stream",
          "name": "stdout",
          "text": [
            "Changed directory to: /content/drive/MyDrive/DATA/Artificial_Intelligence/MNA-V/Subjects/TC5035-Proyecto_Integrador/TC5035.data/jetbot/session_20251016_133216\n"
          ]
        }
      ],
      "source": [
        "working_folder = data_path + 'session_' + session\n",
        "bag_name = 'session_data.bag'\n",
        "\n",
        "# Change to the specified subfolder\n",
        "os.chdir(working_folder)\n",
        "print(f\"Changed directory to: {os.getcwd()}\")"
      ]
    },
    {
      "cell_type": "code",
      "execution_count": 9,
      "metadata": {
        "id": "Ao2LOd4v_hu8",
        "colab": {
          "base_uri": "https://localhost:8080/"
        },
        "outputId": "894dfd6b-0342-4c54-eadc-6978ce864d6a"
      },
      "outputs": [
        {
          "output_type": "stream",
          "name": "stdout",
          "text": [
            "Bag file name: session_data.bag\n"
          ]
        }
      ],
      "source": [
        "bag_file = working_folder + '/' + bag_name\n",
        "print(f\"Bag file name: {bag_name}\")\n",
        "\n",
        "# Set bag_path for the rest of the notebook\n",
        "bag_path = bag_file"
      ]
    },
    {
      "cell_type": "markdown",
      "metadata": {
        "id": "X3QoTWqrumy5"
      },
      "source": [
        "## <font color='#2E86AB'>▼ ROS Bag Basic EDA</font>"
      ]
    },
    {
      "cell_type": "markdown",
      "metadata": {
        "id": "JlJ6IqErumy5"
      },
      "source": [
        "### 1. Basic Bag Information"
      ]
    },
    {
      "cell_type": "code",
      "execution_count": 10,
      "metadata": {
        "id": "Gzgll0Seumy5",
        "colab": {
          "base_uri": "https://localhost:8080/"
        },
        "outputId": "482df6dd-b4b2-4c3d-d1f2-6cea63484237"
      },
      "outputs": [
        {
          "output_type": "stream",
          "name": "stdout",
          "text": [
            "============================================================\n",
            "BASIC BAG INFORMATION\n",
            "============================================================\n",
            "\n",
            "📁 File: session_data.bag\n",
            "⏱️  Duration: 463.17 seconds (7.72 minutes)\n",
            "📬 Total Messages: 98,205\n",
            "📊 Average Rate: 212.03 msg/sec\n"
          ]
        }
      ],
      "source": [
        "# Open the bag and get basic information\n",
        "print(\"=\" * 60)\n",
        "print(\"BASIC BAG INFORMATION\")\n",
        "print(\"=\" * 60)\n",
        "\n",
        "with Reader(bag_path) as reader:\n",
        "    # Get basic statistics\n",
        "    duration = reader.duration * 1e-9  # Convert to seconds\n",
        "    duration_sec = duration\n",
        "    total_messages = reader.message_count\n",
        "\n",
        "    # Calculate average message rate\n",
        "    avg_message_rate = total_messages / duration if duration > 0 else 0\n",
        "\n",
        "    print(f\"\\n📁 File: {bag_name}\")\n",
        "    print(f\"⏱️  Duration: {duration:.2f} seconds ({duration/60:.2f} minutes)\")\n",
        "    print(f\"📬 Total Messages: {total_messages:,}\")\n",
        "    print(f\"📊 Average Rate: {avg_message_rate:.2f} msg/sec\")"
      ]
    },
    {
      "cell_type": "markdown",
      "metadata": {
        "id": "Q1ydJGRHumy6"
      },
      "source": [
        "### 2. Topic Analysis"
      ]
    },
    {
      "cell_type": "code",
      "execution_count": 11,
      "metadata": {
        "id": "tFMEMKgIumy6",
        "colab": {
          "base_uri": "https://localhost:8080/"
        },
        "outputId": "9c4373a7-9bff-490c-f446-ad2d45de684d"
      },
      "outputs": [
        {
          "output_type": "stream",
          "name": "stdout",
          "text": [
            "============================================================\n",
            "TOPIC ANALYSIS\n",
            "============================================================\n",
            "\n",
            "📊 Total Topics: 13\n",
            "\n",
            "                          Topic                         Message Type  Count  Frequency (Hz)\n",
            "                            /tf               tf2_msgs/msg/TFMessage  20459       44.172132\n",
            "                            /tf               tf2_msgs/msg/TFMessage  17614       38.029617\n",
            "                            /tf               tf2_msgs/msg/TFMessage  16294       35.179663\n",
            "                       /cmd_vel              geometry_msgs/msg/Twist  11418       24.652104\n",
            "                           /imu                  sensor_msgs/msg/Imu   9553       20.625464\n",
            "                            /tf               tf2_msgs/msg/TFMessage   8928       19.276054\n",
            "         /csi_cam_0/camera_info           sensor_msgs/msg/CameraInfo   7785       16.808253\n",
            "                          /odom                nav_msgs/msg/Odometry   4013        8.664293\n",
            "                   /submap_list cartographer_ros_msgs/msg/SubmapList   1207        2.605981\n",
            "          /trajectory_node_list   visualization_msgs/msg/MarkerArray    410        0.885213\n",
            "                          /scan            sensor_msgs/msg/LaserScan    315        0.680103\n",
            "               /constraint_list   visualization_msgs/msg/MarkerArray    109        0.235337\n",
            "/csi_cam_0/image_raw/compressed      sensor_msgs/msg/CompressedImage    100        0.215906\n",
            "\n",
            "✅ Topic statistics saved to: topic_statistics.csv\n"
          ]
        }
      ],
      "source": [
        "# Analyze topics\n",
        "print(\"=\" * 60)\n",
        "print(\"TOPIC ANALYSIS\")\n",
        "print(\"=\" * 60)\n",
        "\n",
        "with Reader(bag_path) as reader:\n",
        "    # Get topics and their details\n",
        "    topics_data = []\n",
        "    for connection in reader.connections:\n",
        "        topics_data.append({\n",
        "            'Topic': connection.topic,\n",
        "            'Message Type': connection.msgtype,\n",
        "            'Count': connection.msgcount\n",
        "        })\n",
        "\n",
        "    df_topics = pd.DataFrame(topics_data)\n",
        "    df_topics = df_topics.sort_values('Count', ascending=False)\n",
        "\n",
        "    # Calculate frequency\n",
        "    df_topics['Frequency (Hz)'] = df_topics['Count'] / duration_sec\n",
        "\n",
        "    print(f\"\\n📊 Total Topics: {len(df_topics)}\")\n",
        "    print(f\"\\n{df_topics.to_string(index=False)}\")\n",
        "\n",
        "    # Save to CSV\n",
        "    df_topics.to_csv('topic_statistics.csv', index=False)\n",
        "    print(f\"\\n✅ Topic statistics saved to: topic_statistics.csv\")\n",
        "\n",
        "    unique_topics = df_topics['Topic'].tolist()"
      ]
    },
    {
      "cell_type": "markdown",
      "metadata": {
        "id": "9rZr6g6F93l_"
      },
      "source": [
        "### 3. Message Frequency Distribution"
      ]
    },
    {
      "cell_type": "code",
      "execution_count": 12,
      "metadata": {
        "id": "9qrxfvlO93l_",
        "colab": {
          "base_uri": "https://localhost:8080/"
        },
        "outputId": "e87d74ea-9960-4223-bf80-0365da0b475f"
      },
      "outputs": [
        {
          "output_type": "stream",
          "name": "stdout",
          "text": [
            "============================================================\n",
            "MESSAGE FREQUENCY DISTRIBUTION\n",
            "============================================================\n",
            "\n",
            "Collecting timestamps...\n"
          ]
        },
        {
          "output_type": "stream",
          "name": "stderr",
          "text": [
            "100%|██████████| 98205/98205 [00:01<00:00, 72125.76it/s]"
          ]
        },
        {
          "output_type": "stream",
          "name": "stdout",
          "text": [
            "\n",
            "📈 Inter-Message Interval Statistics:\n",
            "Topic                                    Mean (ms)    Std (ms)     Min (ms)     Max (ms)    \n",
            "----------------------------------------------------------------------------------------\n",
            "/cmd_vel                                 36.54        288.22       0.00         25980.30    \n",
            "/constraint_list                         2766.79      10945.50     0.02         108550.76   \n",
            "/csi_cam_0/camera_info                   59.50        500.15       0.00         38755.33    \n",
            "/csi_cam_0/image_raw/compressed          4480.40      3405.35      0.23         30054.78    \n",
            "/imu                                     46.95        447.40       0.00         40874.90    \n",
            "/odom                                    111.79       1323.80      0.00         82738.43    \n",
            "/scan                                    1427.87      3374.64      0.02         53541.24    \n",
            "/submap_list                             371.55       1258.17      0.00         29235.69    \n",
            "/tf                                      7.32         122.76       0.00         25867.80    \n",
            "/trajectory_node_list                    1085.15      2531.03      0.01         44470.44    \n"
          ]
        },
        {
          "output_type": "stream",
          "name": "stderr",
          "text": [
            "\n"
          ]
        }
      ],
      "source": [
        "# Analyze message frequency distribution\n",
        "print(\"=\" * 60)\n",
        "print(\"MESSAGE FREQUENCY DISTRIBUTION\")\n",
        "print(\"=\" * 60)\n",
        "\n",
        "with Reader(bag_path) as reader:\n",
        "    topic_timestamps = defaultdict(list)\n",
        "\n",
        "    print(\"\\nCollecting timestamps...\")\n",
        "    for connection, timestamp, rawdata in tqdm(reader.messages(), total=reader.message_count):\n",
        "        topic = connection.topic\n",
        "        topic_timestamps[topic].append(timestamp * 1e-9)  # Convert to seconds\n",
        "\n",
        "    # Calculate inter-message intervals\n",
        "    print(\"\\n📈 Inter-Message Interval Statistics:\")\n",
        "    print(f\"{'Topic':<40} {'Mean (ms)':<12} {'Std (ms)':<12} {'Min (ms)':<12} {'Max (ms)':<12}\")\n",
        "    print(\"-\" * 88)\n",
        "\n",
        "    for topic, timestamps in sorted(topic_timestamps.items()):\n",
        "        if len(timestamps) > 1:\n",
        "            intervals = np.diff(timestamps) * 1000  # Convert to milliseconds\n",
        "            print(f\"{topic:<40} {np.mean(intervals):<12.2f} {np.std(intervals):<12.2f} {np.min(intervals):<12.2f} {np.max(intervals):<12.2f}\")"
      ]
    },
    {
      "cell_type": "markdown",
      "metadata": {
        "id": "N4Hd6o3t93mA"
      },
      "source": [
        "### 4. Summary Report"
      ]
    },
    {
      "cell_type": "code",
      "execution_count": 13,
      "metadata": {
        "id": "PQqcvoOT93mA",
        "colab": {
          "base_uri": "https://localhost:8080/"
        },
        "outputId": "9736f4a1-160c-44b7-a3c8-084e9068710a"
      },
      "outputs": [
        {
          "output_type": "stream",
          "name": "stdout",
          "text": [
            "============================================================\n",
            "ROS BAG EDA - SUMMARY REPORT\n",
            "============================================================\n",
            "\n",
            "📊 SUMMARY STATISTICS\n",
            "============================================================\n",
            "\n",
            "FILE INFORMATION:\n",
            "  • File: session_data.bag\n",
            "  • Duration: 463.17 seconds (7.72 minutes)\n",
            "\n",
            "MESSAGE STATISTICS:\n",
            "  • Total Messages: 98,205\n",
            "  • Unique Topics: 13\n",
            "  • Message Types: 9\n",
            "  • Average Rate: 212.03 msg/sec\n",
            "\n"
          ]
        }
      ],
      "source": [
        "# Generate summary report\n",
        "print(\"=\" * 60)\n",
        "print(\"ROS BAG EDA - SUMMARY REPORT\")\n",
        "print(\"=\" * 60)\n",
        "\n",
        "summary_report = f\"\"\"\n",
        "📊 SUMMARY STATISTICS\n",
        "{'='*60}\n",
        "\n",
        "FILE INFORMATION:\n",
        "  • File: {bag_name}\n",
        "  • Duration: {duration_sec:.2f} seconds ({duration_sec/60:.2f} minutes)\n",
        "\n",
        "MESSAGE STATISTICS:\n",
        "  • Total Messages: {total_messages:,}\n",
        "  • Unique Topics: {len(unique_topics)}\n",
        "  • Message Types: {df_topics['Message Type'].nunique()}\n",
        "  • Average Rate: {avg_message_rate:.2f} msg/sec\n",
        "\"\"\"\n",
        "\n",
        "print(summary_report)\n",
        "\n",
        "# Save report\n",
        "with open('rosbag_eda_summary.txt', 'w') as f:\n",
        "    f.write(summary_report)"
      ]
    }
  ],
  "metadata": {
    "kernelspec": {
      "display_name": "Python 3",
      "language": "python",
      "name": "python3"
    },
    "language_info": {
      "codemirror_mode": {
        "name": "ipython",
        "version": 3
      },
      "file_extension": ".py",
      "mimetype": "text/x-python",
      "name": "python",
      "nbconvert_exporter": "python",
      "version": "3.8.0"
    },
    "colab": {
      "provenance": [],
      "include_colab_link": true
    }
  },
  "nbformat": 4,
  "nbformat_minor": 0
}