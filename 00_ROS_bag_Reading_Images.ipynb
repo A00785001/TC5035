{
  "cells": [
    {
      "cell_type": "markdown",
      "metadata": {
        "id": "view-in-github",
        "colab_type": "text"
      },
      "source": [
        "<a href=\"https://colab.research.google.com/github/A00785001/TC5035/blob/main/00_ROS_bag_Reading_Images.ipynb\" target=\"_parent\"><img src=\"https://colab.research.google.com/assets/colab-badge.svg\" alt=\"Open In Colab\"/></a>"
      ]
    },
    {
      "cell_type": "code",
      "execution_count": null,
      "metadata": {
        "colab": {
          "base_uri": "https://localhost:8080/"
        },
        "outputId": "636b161c-97aa-4e0d-b965-0395af604360",
        "id": "eB-MQDX04K7W"
      },
      "outputs": [
        {
          "output_type": "stream",
          "name": "stdout",
          "text": [
            "Requirement already satisfied: bagpy in /usr/local/lib/python3.12/dist-packages (0.4.10)\n",
            "Requirement already satisfied: numpy in /usr/local/lib/python3.12/dist-packages (from bagpy) (2.0.2)\n",
            "Requirement already satisfied: pyserial>=3.4 in /usr/local/lib/python3.12/dist-packages (from bagpy) (3.5)\n",
            "Requirement already satisfied: bitstring>=3.1.6 in /usr/local/lib/python3.12/dist-packages (from bagpy) (4.3.1)\n",
            "Requirement already satisfied: pycryptodomex in /usr/local/lib/python3.12/dist-packages (from bagpy) (3.23.0)\n",
            "Requirement already satisfied: pyyaml in /usr/local/lib/python3.12/dist-packages (from bagpy) (6.0.3)\n",
            "Requirement already satisfied: rospkg in /usr/local/lib/python3.12/dist-packages (from bagpy) (1.6.0)\n",
            "Requirement already satisfied: ipython in /usr/local/lib/python3.12/dist-packages (from bagpy) (7.34.0)\n",
            "Requirement already satisfied: ytsphinx in /usr/local/lib/python3.12/dist-packages (from bagpy) (1.2.1.dev20200430)\n",
            "Requirement already satisfied: py3rosmsgs in /usr/local/lib/python3.12/dist-packages (from bagpy) (1.18.2)\n",
            "Requirement already satisfied: seaborn>=0.9.0 in /usr/local/lib/python3.12/dist-packages (from bagpy) (0.13.2)\n",
            "Requirement already satisfied: Sphinx==3.2.1 in /usr/local/lib/python3.12/dist-packages (from bagpy) (3.2.1)\n",
            "Requirement already satisfied: sphinx-rtd-theme in /usr/local/lib/python3.12/dist-packages (from bagpy) (0.5.1)\n",
            "Requirement already satisfied: sphinx-autodoc-typehints==1.4.0 in /usr/local/lib/python3.12/dist-packages (from bagpy) (1.4.0)\n",
            "Requirement already satisfied: recommonmark in /usr/local/lib/python3.12/dist-packages (from bagpy) (0.7.1)\n",
            "Requirement already satisfied: rinohtype in /usr/local/lib/python3.12/dist-packages (from bagpy) (0.5.4)\n",
            "Requirement already satisfied: mkdocs in /usr/local/lib/python3.12/dist-packages (from bagpy) (1.6.1)\n",
            "Requirement already satisfied: sphinx-bootstrap-theme in /usr/local/lib/python3.12/dist-packages (from bagpy) (0.8.1)\n",
            "Requirement already satisfied: sphinx-markdown-parser in /usr/local/lib/python3.12/dist-packages (from bagpy) (0.2.4)\n",
            "Requirement already satisfied: pymdown-extensions in /usr/local/lib/python3.12/dist-packages (from bagpy) (10.16)\n",
            "Requirement already satisfied: m2r2 in /usr/local/lib/python3.12/dist-packages (from bagpy) (0.3.4)\n",
            "Requirement already satisfied: sphinxcontrib-applehelp in /usr/local/lib/python3.12/dist-packages (from Sphinx==3.2.1->bagpy) (2.0.0)\n",
            "Requirement already satisfied: sphinxcontrib-devhelp in /usr/local/lib/python3.12/dist-packages (from Sphinx==3.2.1->bagpy) (2.0.0)\n",
            "Requirement already satisfied: sphinxcontrib-jsmath in /usr/local/lib/python3.12/dist-packages (from Sphinx==3.2.1->bagpy) (1.0.1)\n",
            "Requirement already satisfied: sphinxcontrib-htmlhelp in /usr/local/lib/python3.12/dist-packages (from Sphinx==3.2.1->bagpy) (2.1.0)\n",
            "Requirement already satisfied: sphinxcontrib-serializinghtml in /usr/local/lib/python3.12/dist-packages (from Sphinx==3.2.1->bagpy) (2.0.0)\n",
            "Requirement already satisfied: sphinxcontrib-qthelp in /usr/local/lib/python3.12/dist-packages (from Sphinx==3.2.1->bagpy) (2.0.0)\n",
            "Requirement already satisfied: Jinja2>=2.3 in /usr/local/lib/python3.12/dist-packages (from Sphinx==3.2.1->bagpy) (3.1.2)\n",
            "Requirement already satisfied: Pygments>=2.0 in /usr/local/lib/python3.12/dist-packages (from Sphinx==3.2.1->bagpy) (2.19.2)\n",
            "Requirement already satisfied: docutils>=0.12 in /usr/local/lib/python3.12/dist-packages (from Sphinx==3.2.1->bagpy) (0.21.2)\n",
            "Requirement already satisfied: snowballstemmer>=1.1 in /usr/local/lib/python3.12/dist-packages (from Sphinx==3.2.1->bagpy) (3.0.1)\n",
            "Requirement already satisfied: babel>=1.3 in /usr/local/lib/python3.12/dist-packages (from Sphinx==3.2.1->bagpy) (2.17.0)\n",
            "Requirement already satisfied: alabaster<0.8,>=0.7 in /usr/local/lib/python3.12/dist-packages (from Sphinx==3.2.1->bagpy) (0.7.16)\n",
            "Requirement already satisfied: imagesize in /usr/local/lib/python3.12/dist-packages (from Sphinx==3.2.1->bagpy) (1.4.1)\n",
            "Requirement already satisfied: requests>=2.5.0 in /usr/local/lib/python3.12/dist-packages (from Sphinx==3.2.1->bagpy) (2.32.4)\n",
            "Requirement already satisfied: setuptools in /usr/local/lib/python3.12/dist-packages (from Sphinx==3.2.1->bagpy) (75.2.0)\n",
            "Requirement already satisfied: packaging in /usr/local/lib/python3.12/dist-packages (from Sphinx==3.2.1->bagpy) (25.0)\n",
            "Requirement already satisfied: bitarray<4.0,>=3.0.0 in /usr/local/lib/python3.12/dist-packages (from bitstring>=3.1.6->bagpy) (3.7.2)\n",
            "Requirement already satisfied: pandas>=1.2 in /usr/local/lib/python3.12/dist-packages (from seaborn>=0.9.0->bagpy) (2.2.2)\n",
            "Requirement already satisfied: matplotlib!=3.6.1,>=3.4 in /usr/local/lib/python3.12/dist-packages (from seaborn>=0.9.0->bagpy) (3.10.0)\n",
            "Requirement already satisfied: jedi>=0.16 in /usr/local/lib/python3.12/dist-packages (from ipython->bagpy) (0.19.2)\n",
            "Requirement already satisfied: decorator in /usr/local/lib/python3.12/dist-packages (from ipython->bagpy) (4.4.2)\n",
            "Requirement already satisfied: pickleshare in /usr/local/lib/python3.12/dist-packages (from ipython->bagpy) (0.7.5)\n",
            "Requirement already satisfied: traitlets>=4.2 in /usr/local/lib/python3.12/dist-packages (from ipython->bagpy) (5.7.1)\n",
            "Requirement already satisfied: prompt-toolkit!=3.0.0,!=3.0.1,<3.1.0,>=2.0.0 in /usr/local/lib/python3.12/dist-packages (from ipython->bagpy) (3.0.52)\n",
            "Requirement already satisfied: backcall in /usr/local/lib/python3.12/dist-packages (from ipython->bagpy) (0.2.0)\n",
            "Requirement already satisfied: matplotlib-inline in /usr/local/lib/python3.12/dist-packages (from ipython->bagpy) (0.1.7)\n",
            "Requirement already satisfied: pexpect>4.3 in /usr/local/lib/python3.12/dist-packages (from ipython->bagpy) (4.9.0)\n",
            "Requirement already satisfied: mistune==0.8.4 in /usr/local/lib/python3.12/dist-packages (from m2r2->bagpy) (0.8.4)\n",
            "Requirement already satisfied: click>=7.0 in /usr/local/lib/python3.12/dist-packages (from mkdocs->bagpy) (8.3.0)\n",
            "Requirement already satisfied: ghp-import>=1.0 in /usr/local/lib/python3.12/dist-packages (from mkdocs->bagpy) (2.1.0)\n",
            "Requirement already satisfied: markdown>=3.3.6 in /usr/local/lib/python3.12/dist-packages (from mkdocs->bagpy) (3.9)\n",
            "Requirement already satisfied: markupsafe>=2.0.1 in /usr/local/lib/python3.12/dist-packages (from mkdocs->bagpy) (3.0.3)\n",
            "Requirement already satisfied: mergedeep>=1.3.4 in /usr/local/lib/python3.12/dist-packages (from mkdocs->bagpy) (1.3.4)\n",
            "Requirement already satisfied: mkdocs-get-deps>=0.2.0 in /usr/local/lib/python3.12/dist-packages (from mkdocs->bagpy) (0.2.0)\n",
            "Requirement already satisfied: pathspec>=0.11.1 in /usr/local/lib/python3.12/dist-packages (from mkdocs->bagpy) (0.12.1)\n",
            "Requirement already satisfied: pyyaml-env-tag>=0.1 in /usr/local/lib/python3.12/dist-packages (from mkdocs->bagpy) (1.1)\n",
            "Requirement already satisfied: watchdog>=2.0 in /usr/local/lib/python3.12/dist-packages (from mkdocs->bagpy) (6.0.0)\n",
            "Requirement already satisfied: gnupg in /usr/local/lib/python3.12/dist-packages (from py3rosmsgs->bagpy) (2.3.1)\n",
            "Requirement already satisfied: commonmark>=0.8.1 in /usr/local/lib/python3.12/dist-packages (from recommonmark->bagpy) (0.9.1)\n",
            "Requirement already satisfied: appdirs<2.0.0,>=1.4.3 in /usr/local/lib/python3.12/dist-packages (from rinohtype->bagpy) (1.4.4)\n",
            "Requirement already satisfied: rinoh-typeface-dejavuserif<0.2.0,>=0.1.3 in /usr/local/lib/python3.12/dist-packages (from rinohtype->bagpy) (0.1.3)\n",
            "Requirement already satisfied: rinoh-typeface-texgyrecursor<0.2.0,>=0.1.1 in /usr/local/lib/python3.12/dist-packages (from rinohtype->bagpy) (0.1.1)\n",
            "Requirement already satisfied: rinoh-typeface-texgyreheros<0.2.0,>=0.1.1 in /usr/local/lib/python3.12/dist-packages (from rinohtype->bagpy) (0.1.1)\n",
            "Requirement already satisfied: rinoh-typeface-texgyrepagella<0.2.0,>=0.1.1 in /usr/local/lib/python3.12/dist-packages (from rinohtype->bagpy) (0.1.1)\n",
            "Requirement already satisfied: catkin-pkg in /usr/local/lib/python3.12/dist-packages (from rospkg->bagpy) (1.1.0)\n",
            "Requirement already satisfied: distro>=1.4.0 in /usr/local/lib/python3.12/dist-packages (from rospkg->bagpy) (1.9.0)\n",
            "Requirement already satisfied: pydash>=4.7.5 in /usr/local/lib/python3.12/dist-packages (from sphinx-markdown-parser->bagpy) (8.0.5)\n",
            "Requirement already satisfied: unify>=0.5 in /usr/local/lib/python3.12/dist-packages (from sphinx-markdown-parser->bagpy) (0.5)\n",
            "Requirement already satisfied: yapf>=0.28.0 in /usr/local/lib/python3.12/dist-packages (from sphinx-markdown-parser->bagpy) (0.43.0)\n",
            "Requirement already satisfied: python-dateutil>=2.8.1 in /usr/local/lib/python3.12/dist-packages (from ghp-import>=1.0->mkdocs->bagpy) (2.9.0.post0)\n",
            "Requirement already satisfied: parso<0.9.0,>=0.8.4 in /usr/local/lib/python3.12/dist-packages (from jedi>=0.16->ipython->bagpy) (0.8.5)\n",
            "Requirement already satisfied: contourpy>=1.0.1 in /usr/local/lib/python3.12/dist-packages (from matplotlib!=3.6.1,>=3.4->seaborn>=0.9.0->bagpy) (1.3.3)\n",
            "Requirement already satisfied: cycler>=0.10 in /usr/local/lib/python3.12/dist-packages (from matplotlib!=3.6.1,>=3.4->seaborn>=0.9.0->bagpy) (0.12.1)\n",
            "Requirement already satisfied: fonttools>=4.22.0 in /usr/local/lib/python3.12/dist-packages (from matplotlib!=3.6.1,>=3.4->seaborn>=0.9.0->bagpy) (4.60.1)\n",
            "Requirement already satisfied: kiwisolver>=1.3.1 in /usr/local/lib/python3.12/dist-packages (from matplotlib!=3.6.1,>=3.4->seaborn>=0.9.0->bagpy) (1.4.9)\n",
            "Requirement already satisfied: pillow>=8 in /usr/local/lib/python3.12/dist-packages (from matplotlib!=3.6.1,>=3.4->seaborn>=0.9.0->bagpy) (11.3.0)\n",
            "Requirement already satisfied: pyparsing>=2.3.1 in /usr/local/lib/python3.12/dist-packages (from matplotlib!=3.6.1,>=3.4->seaborn>=0.9.0->bagpy) (3.2.5)\n",
            "Requirement already satisfied: platformdirs>=2.2.0 in /usr/local/lib/python3.12/dist-packages (from mkdocs-get-deps>=0.2.0->mkdocs->bagpy) (4.5.0)\n",
            "Requirement already satisfied: pytz>=2020.1 in /usr/local/lib/python3.12/dist-packages (from pandas>=1.2->seaborn>=0.9.0->bagpy) (2025.2)\n",
            "Requirement already satisfied: tzdata>=2022.7 in /usr/local/lib/python3.12/dist-packages (from pandas>=1.2->seaborn>=0.9.0->bagpy) (2025.2)\n",
            "Requirement already satisfied: ptyprocess>=0.5 in /usr/local/lib/python3.12/dist-packages (from pexpect>4.3->ipython->bagpy) (0.7.0)\n",
            "Requirement already satisfied: wcwidth in /usr/local/lib/python3.12/dist-packages (from prompt-toolkit!=3.0.0,!=3.0.1,<3.1.0,>=2.0.0->ipython->bagpy) (0.2.14)\n",
            "Requirement already satisfied: typing-extensions!=4.6.0,>3.10 in /usr/local/lib/python3.12/dist-packages (from pydash>=4.7.5->sphinx-markdown-parser->bagpy) (4.15.0)\n",
            "Requirement already satisfied: charset_normalizer<4,>=2 in /usr/local/lib/python3.12/dist-packages (from requests>=2.5.0->Sphinx==3.2.1->bagpy) (3.4.4)\n",
            "Requirement already satisfied: idna<4,>=2.5 in /usr/local/lib/python3.12/dist-packages (from requests>=2.5.0->Sphinx==3.2.1->bagpy) (3.11)\n",
            "Requirement already satisfied: urllib3<3,>=1.21.1 in /usr/local/lib/python3.12/dist-packages (from requests>=2.5.0->Sphinx==3.2.1->bagpy) (2.5.0)\n",
            "Requirement already satisfied: certifi>=2017.4.17 in /usr/local/lib/python3.12/dist-packages (from requests>=2.5.0->Sphinx==3.2.1->bagpy) (2025.10.5)\n",
            "Requirement already satisfied: untokenize in /usr/local/lib/python3.12/dist-packages (from unify>=0.5->sphinx-markdown-parser->bagpy) (0.1.1)\n",
            "Requirement already satisfied: psutil>=1.2.1 in /usr/local/lib/python3.12/dist-packages (from gnupg->py3rosmsgs->bagpy) (5.9.5)\n",
            "Requirement already satisfied: six>=1.5 in /usr/local/lib/python3.12/dist-packages (from python-dateutil>=2.8.1->ghp-import>=1.0->mkdocs->bagpy) (1.17.0)\n"
          ]
        }
      ],
      "source": [
        "# Install required packages\n",
        "!pip install bagpy"
      ]
    },
    {
      "cell_type": "markdown",
      "metadata": {
        "id": "9HyyTEPd2NZD"
      },
      "source": [
        "# ROS Bag Camera Data Reader\n",
        "This notebook reads and displays camera data from ROS bag files using bagpy"
      ]
    },
    {
      "cell_type": "code",
      "execution_count": null,
      "metadata": {
        "id": "K3VL9koR2NZF",
        "colab": {
          "base_uri": "https://localhost:8080/"
        },
        "outputId": "0159bd19-0839-469a-942d-4f7702091e0a"
      },
      "outputs": [
        {
          "output_type": "stream",
          "name": "stdout",
          "text": [
            "Libraries loaded successfully!\n"
          ]
        }
      ],
      "source": [
        "# Import libraries\n",
        "from bagpy import bagreader\n",
        "import cv2\n",
        "import numpy as np\n",
        "from PIL import Image\n",
        "import matplotlib.pyplot as plt\n",
        "import os\n",
        "from glob import glob\n",
        "\n",
        "print(\"Libraries loaded successfully!\")"
      ]
    },
    {
      "cell_type": "code",
      "metadata": {
        "colab": {
          "base_uri": "https://localhost:8080/"
        },
        "id": "f6fefdeb",
        "outputId": "80a35a76-bafb-4e5b-c540-986b19ab2813"
      },
      "source": [
        "# Mount Google Drive\n",
        "from google.colab import drive\n",
        "drive.mount('/content/drive')"
      ],
      "execution_count": null,
      "outputs": [
        {
          "output_type": "stream",
          "name": "stdout",
          "text": [
            "Mounted at /content/drive\n"
          ]
        }
      ]
    },
    {
      "cell_type": "code",
      "execution_count": null,
      "metadata": {
        "id": "1a1DqWWs2NZF",
        "colab": {
          "base_uri": "https://localhost:8080/"
        },
        "outputId": "4e479bba-84c9-46ae-f408-97ff9d5c70f0"
      },
      "outputs": [
        {
          "output_type": "stream",
          "name": "stdout",
          "text": [
            "Changed directory to: /content/drive/MyDrive/DATA/Artificial_Intelligence/MNA-V/Subjects/TC5035-Proyecto_Integrador/TC5035.data\n"
          ]
        }
      ],
      "source": [
        "# Specify the path to your ROS bag file within the shared folder\n",
        "data_path = \"/content/drive/MyDrive/DATA/Artificial_Intelligence/MNA-V/Subjects/TC5035-Proyecto_Integrador/TC5035.data/\"\n",
        "ROS_bgas_path = \"ROS_bags/\"\n",
        "\n",
        "# Change to the specified subfolder\n",
        "os.chdir(data_path)\n",
        "\n",
        "print(f\"Changed directory to: {os.getcwd()}\")"
      ]
    },
    {
      "cell_type": "code",
      "source": [
        "ROS_bag_subfolder = 'session_20251016_133216'\n",
        "print(f\"Using session: {ROS_bag_subfolder}\")\n"
      ],
      "metadata": {
        "colab": {
          "base_uri": "https://localhost:8080/"
        },
        "id": "DQYkArHt8o69",
        "outputId": "e8359a04-6c8a-4a01-fce7-c220fc6b7638"
      },
      "execution_count": null,
      "outputs": [
        {
          "output_type": "stream",
          "name": "stdout",
          "text": [
            "Using session: session_20251016_133216\n"
          ]
        }
      ]
    },
    {
      "cell_type": "code",
      "source": [
        "bag_name = 'session_data.bag'\n",
        "bag_file = data_path +_+ ROS_bgas_path + ROS_bag_subfolder + '/'+ bag_name"
      ],
      "metadata": {
        "id": "-T4iTDJk9y9M"
      },
      "execution_count": null,
      "outputs": []
    },
    {
      "cell_type": "code",
      "execution_count": null,
      "metadata": {
        "id": "pjFkSb2_2NZG",
        "colab": {
          "base_uri": "https://localhost:8080/"
        },
        "outputId": "f0da9747-a1e3-4069-8afc-99c78885edd8"
      },
      "outputs": [
        {
          "output_type": "stream",
          "name": "stdout",
          "text": [
            "[INFO]  Successfully created the data folder /content/drive/MyDrive/DATA/Artificial_Intelligence/MNA-V/Subjects/TC5035-Proyecto_Integrador/TC5035.data/ROS_bags/session_20251016_133216/session_data.\n",
            "Opened bag file: /content/drive/MyDrive/DATA/Artificial_Intelligence/MNA-V/Subjects/TC5035-Proyecto_Integrador/TC5035.data/ROS_bags/session_20251016_133216/session_data.bag\n"
          ]
        }
      ],
      "source": [
        "# Read the bag file\n",
        "bag = bagreader(bag_file)\n",
        "print(f\"Opened bag file: {bag_file}\")"
      ]
    },
    {
      "cell_type": "code",
      "execution_count": null,
      "metadata": {
        "id": "aJBnYHGa2NZG",
        "colab": {
          "base_uri": "https://localhost:8080/"
        },
        "outputId": "79878d13-d54b-4d03-d2ca-5c16f83198c3"
      },
      "outputs": [
        {
          "output_type": "stream",
          "name": "stdout",
          "text": [
            "Topics in bag:\n",
            "                            Topics                             Types  \\\n",
            "0                         /cmd_vel               geometry_msgs/Twist   \n",
            "1                 /constraint_list    visualization_msgs/MarkerArray   \n",
            "2           /csi_cam_0/camera_info            sensor_msgs/CameraInfo   \n",
            "3  /csi_cam_0/image_raw/compressed       sensor_msgs/CompressedImage   \n",
            "4                             /imu                   sensor_msgs/Imu   \n",
            "5                            /odom                 nav_msgs/Odometry   \n",
            "6                            /scan             sensor_msgs/LaserScan   \n",
            "7                     /submap_list  cartographer_ros_msgs/SubmapList   \n",
            "8                              /tf                tf2_msgs/TFMessage   \n",
            "9            /trajectory_node_list    visualization_msgs/MarkerArray   \n",
            "\n",
            "   Message Count     Frequency  \n",
            "0          11418     22.415888  \n",
            "1            109      2.055993  \n",
            "2           7785  17848.102128  \n",
            "3            100      0.247299  \n",
            "4           9553  22192.084656  \n",
            "5           4013   9998.340882  \n",
            "6            315      0.921306  \n",
            "7           1207      3.554534  \n",
            "8          63295  27962.026667  \n",
            "9            410      2.187637  \n"
          ]
        }
      ],
      "source": [
        "# List all topics in the bag\n",
        "print(\"Topics in bag:\")\n",
        "print(bag.topic_table)"
      ]
    },
    {
      "cell_type": "code",
      "execution_count": null,
      "metadata": {
        "id": "zjjwmr2w2NZH",
        "colab": {
          "base_uri": "https://localhost:8080/"
        },
        "outputId": "c68a45c1-75f2-49b4-ec4c-cd4c77700007"
      },
      "outputs": [
        {
          "output_type": "stream",
          "name": "stdout",
          "text": [
            "Using camera topic: /csi_cam_0/image_raw/compressed\n"
          ]
        }
      ],
      "source": [
        "# Specify your camera topic (update this based on the output above)\n",
        "camera_topic = \"/csi_cam_0/image_raw/compressed\"\n",
        "print(f\"Using camera topic: {camera_topic}\")"
      ]
    },
    {
      "cell_type": "code",
      "execution_count": null,
      "metadata": {
        "id": "1Vh_5HQC2NZH",
        "colab": {
          "base_uri": "https://localhost:8080/"
        },
        "outputId": "64c71f98-7f0f-4f6f-fb05-2d2b3392c017"
      },
      "outputs": [
        {
          "output_type": "stream",
          "name": "stdout",
          "text": [
            "Extracting images from topic: /csi_cam_0/image_raw/compressed\n",
            "Images extracted to: /content/drive/MyDrive/DATA/Artificial_Intelligence/MNA-V/Subjects/TC5035-Proyecto_Integrador/TC5035.data/ROS_bags/session_20251016_133216/session_data/csi_cam_0-image_raw-compressed.csv\n"
          ]
        }
      ],
      "source": [
        "# Extract images from the topic\n",
        "print(f\"Extracting images from topic: {camera_topic}\")\n",
        "image_data = bag.message_by_topic(camera_topic)\n",
        "print(f\"Images extracted to: {image_data}\")"
      ]
    },
    {
      "cell_type": "code",
      "execution_count": null,
      "metadata": {
        "id": "o4YLiWzg2NZH",
        "colab": {
          "base_uri": "https://localhost:8080/"
        },
        "outputId": "d83f1a39-152c-4ef1-ace3-51d9d4f88df7"
      },
      "outputs": [
        {
          "output_type": "stream",
          "name": "stdout",
          "text": [
            "Found 0 images\n"
          ]
        }
      ],
      "source": [
        "# Get the folder where images were extracted\n",
        "bag_name = os.path.splitext(bag_file)[0]\n",
        "image_folder = os.path.join(bag_name, camera_topic.replace('/', '-')[1:])\n",
        "\n",
        "# List all image files\n",
        "image_files = sorted(glob(os.path.join(image_folder, '*.jpg')) +\n",
        "                     glob(os.path.join(image_folder, '*.png')))\n",
        "\n",
        "print(f\"Found {len(image_files)} images\")\n",
        "if image_files:\n",
        "    print(f\"Image folder: {image_folder}\")"
      ]
    },
    {
      "cell_type": "code",
      "execution_count": null,
      "metadata": {
        "id": "6wqXqvc82NZI"
      },
      "outputs": [],
      "source": [
        "# Load first 10 images\n",
        "images = []\n",
        "for img_path in image_files[:10]:\n",
        "    img = cv2.imread(img_path)\n",
        "    img_rgb = cv2.cvtColor(img, cv2.COLOR_BGR2RGB)\n",
        "    images.append(img_rgb)\n",
        "\n",
        "print(f\"Loaded {len(images)} images\")\n",
        "if images:\n",
        "    print(f\"Image shape: {images[0].shape}\")"
      ]
    },
    {
      "cell_type": "code",
      "execution_count": null,
      "metadata": {
        "id": "uGjrdDk92NZI"
      },
      "outputs": [],
      "source": [
        "# Display first image\n",
        "if images:\n",
        "    plt.figure(figsize=(10, 8))\n",
        "    plt.imshow(images[0])\n",
        "    plt.title(\"First Image\")\n",
        "    plt.axis('off')\n",
        "    plt.show()"
      ]
    },
    {
      "cell_type": "code",
      "execution_count": null,
      "metadata": {
        "id": "gQpLm43y2NZI"
      },
      "outputs": [],
      "source": [
        "# Display multiple images in a grid\n",
        "if len(images) > 1:\n",
        "    fig, axes = plt.subplots(2, 5, figsize=(15, 6))\n",
        "    axes = axes.flatten()\n",
        "\n",
        "    for i, img in enumerate(images[:10]):\n",
        "        axes[i].imshow(img)\n",
        "        axes[i].set_title(f\"Image {i+1}\", fontsize=8)\n",
        "        axes[i].axis('off')\n",
        "\n",
        "    plt.tight_layout()\n",
        "    plt.show()"
      ]
    }
  ],
  "metadata": {
    "kernelspec": {
      "display_name": "Python 3",
      "language": "python",
      "name": "python3"
    },
    "language_info": {
      "codemirror_mode": {
        "name": "ipython",
        "version": 3
      },
      "file_extension": ".py",
      "mimetype": "text/x-python",
      "name": "python",
      "nbconvert_exporter": "python",
      "pygments_lexer": "ipython3",
      "version": "3.8.0"
    },
    "colab": {
      "provenance": [],
      "include_colab_link": true
    }
  },
  "nbformat": 4,
  "nbformat_minor": 0
}